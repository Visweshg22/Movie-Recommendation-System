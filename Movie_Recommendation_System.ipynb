{
  "nbformat": 4,
  "nbformat_minor": 0,
  "metadata": {
    "colab": {
      "provenance": []
    },
    "kernelspec": {
      "name": "python3",
      "display_name": "Python 3"
    },
    "language_info": {
      "name": "python"
    }
  },
  "cells": [
    {
      "cell_type": "markdown",
      "source": [
        " Data Preprocessing"
      ],
      "metadata": {
        "id": "wK_cOn9yGVAo"
      }
    },
    {
      "cell_type": "code",
      "execution_count": 13,
      "metadata": {
        "id": "04CBQWuQj8dZ"
      },
      "outputs": [],
      "source": [
        "import pandas as pd\n",
        "from sklearn.metrics.pairwise import cosine_similarity\n",
        "from scipy.sparse import csr_matrix\n",
        "\n",
        "# Load ratings data\n",
        "ratings = pd.read_csv(\"ratings.csv\")\n",
        "# Load movie metadata\n",
        "movies = pd.read_csv(\"movies.csv\")    # Contains movieId, title, genres\n",
        "\n",
        "# Create user-item matrix\n",
        "user_item_matrix = ratings.pivot_table(index='userId', columns='movieId', values='rating').fillna(0)\n",
        "\n",
        "# Convert to sparse matrix (efficient storage)\n",
        "sparse_matrix = csr_matrix(user_item_matrix.values)\n"
      ]
    },
    {
      "cell_type": "markdown",
      "source": [
        "User-Based Collaborative Filtering"
      ],
      "metadata": {
        "id": "axSpJ2r6Geze"
      }
    },
    {
      "cell_type": "code",
      "source": [
        "# Compute similarity between users\n",
        "user_similarity = cosine_similarity(sparse_matrix)\n",
        "\n",
        "# Example: get top 5 similar users to user ID 1\n",
        "import numpy as np\n",
        "user_id = 1\n",
        "similar_users = np.argsort(-user_similarity[user_id-1])[1:6]  # Exclude self (0th is self)\n",
        "print(f\"Top 5 similar users to User {user_id}:\", similar_users + 1)\n"
      ],
      "metadata": {
        "colab": {
          "base_uri": "https://localhost:8080/"
        },
        "id": "hU0MvMvNyvL9",
        "outputId": "793d4af5-3a8d-42aa-e958-ed2e8690eccf"
      },
      "execution_count": 15,
      "outputs": [
        {
          "output_type": "stream",
          "name": "stdout",
          "text": [
            "Top 5 similar users to User 1: [325 634 341 310 207]\n"
          ]
        }
      ]
    },
    {
      "cell_type": "markdown",
      "source": [
        "Item-Based Collaborative Filtering"
      ],
      "metadata": {
        "id": "j4XJaFGLGgPs"
      }
    },
    {
      "cell_type": "code",
      "source": [
        "from sklearn.metrics.pairwise import cosine_similarity\n",
        "\n",
        "user_similarity = cosine_similarity(user_item_matrix) # Changed user_movie_matrix to user_item_matrix\n",
        "user_similarity_df = pd.DataFrame(user_similarity, index=user_item_matrix.index, columns=user_item_matrix.index) # Changed user_movie_matrix to user_item_matrix\n"
      ],
      "metadata": {
        "id": "fSP1G-y_8o9t"
      },
      "execution_count": 17,
      "outputs": []
    },
    {
      "cell_type": "markdown",
      "source": [
        "Compute User Similarity Matrix\n"
      ],
      "metadata": {
        "id": "j7CnSNX5GjNO"
      }
    },
    {
      "cell_type": "code",
      "source": [
        "# Transpose for item-item similarity\n",
        "item_item_matrix = user_item_matrix.T\n",
        "item_similarity = cosine_similarity(item_item_matrix.fillna(0))\n",
        "\n",
        "# Example: get top 5 similar movies to movie ID 1\n",
        "movie_id = 1\n",
        "movie_idx = list(item_item_matrix.index).index(movie_id)\n",
        "similar_movies = np.argsort(-item_similarity[movie_idx])[1:6]\n",
        "similar_movie_ids = item_item_matrix.index[similar_movies]\n",
        "print(f\"Top 5 similar movies to Movie {movie_id}:\", similar_movie_ids.tolist())\n"
      ],
      "metadata": {
        "colab": {
          "base_uri": "https://localhost:8080/"
        },
        "id": "rHTEv856zOiO",
        "outputId": "49c16947-5197-4752-c3ba-e0a05ad86664"
      },
      "execution_count": 9,
      "outputs": [
        {
          "output_type": "stream",
          "name": "stdout",
          "text": [
            "Top 5 similar movies to Movie 1: [3114, 260, 356, 780, 1265]\n"
          ]
        }
      ]
    },
    {
      "cell_type": "markdown",
      "source": [
        "Recommend Movies Based on Similar Users\n",
        "\n",
        "Recommend top n movies to a target user based on ratings from similar users."
      ],
      "metadata": {
        "id": "7OAdZE6bG5Vw"
      }
    },
    {
      "cell_type": "code",
      "source": [
        "def recommend_movies_for_user(target_user_id, num_recommendations=5):\n",
        "    # Get similarity scores for the target user\n",
        "    similar_users = user_similarity_df[target_user_id].sort_values(ascending=False)\n",
        "    similar_users = similar_users.drop(index=target_user_id)  # Exclude self\n",
        "\n",
        "    # Get ratings of similar users\n",
        "    similar_users_ratings = user_movie_matrix.loc[similar_users.index]\n",
        "\n",
        "    # Weighted average of ratings using similarity scores\n",
        "    weighted_ratings = similar_users_ratings.T.dot(similar_users)\n",
        "    normalization = similar_users.sum()\n",
        "    recommendation_scores = weighted_ratings / normalization\n",
        "\n",
        "    # Remove movies already rated by the target user\n",
        "    watched_movies = user_movie_matrix.loc[target_user_id]\n",
        "    watched_movies = watched_movies[watched_movies > 0].index\n",
        "    recommendation_scores = recommendation_scores.drop(watched_movies, errors='ignore')\n",
        "\n",
        "    # Return top N recommended movie IDs\n",
        "    top_recommendations = recommendation_scores.sort_values(ascending=False).head(num_recommendations)\n",
        "    return top_recommendations\n"
      ],
      "metadata": {
        "id": "CKRjCXgvzeXw"
      },
      "execution_count": 19,
      "outputs": []
    },
    {
      "cell_type": "code",
      "source": [
        "def recommend_movies_for_user(target_user_id, num_recommendations=5):\n",
        "    similar_users = user_similarity_df[target_user_id].sort_values(ascending=False)\n",
        "    similar_users = similar_users.drop(index=target_user_id)\n",
        "\n",
        "    # Get ratings of similar users\n",
        "    similar_ratings = user_movie_matrix.loc[similar_users.index]\n",
        "\n",
        "    # Weighted rating calculation\n",
        "    weighted_scores = similar_ratings.T.dot(similar_users)\n",
        "    normalization = similar_users.sum()\n",
        "    scores = weighted_scores / normalization\n",
        "\n",
        "    # Remove movies the target user has already rated\n",
        "    watched = user_movie_matrix.loc[target_user_id]\n",
        "    scores = scores.drop(watched[watched > 0].index, errors='ignore')\n",
        "\n",
        "    # Get top recommended movie IDs\n",
        "    top_movies = scores.sort_values(ascending=False).head(num_recommendations)\n",
        "    return top_movies\n"
      ],
      "metadata": {
        "id": "ZdLCDyES8X73"
      },
      "execution_count": 23,
      "outputs": []
    },
    {
      "source": [
        "def recommend_movies_for_user(target_user_id, num_recommendations=5):\n",
        "    similar_users = user_similarity_df[target_user_id].sort_values(ascending=False)\n",
        "    similar_users = similar_users.drop(index=target_user_id)\n",
        "\n",
        "    # Get ratings of similar users\n",
        "    # Changed 'user_movie_matrix' to 'user_item_matrix'\n",
        "    similar_ratings = user_item_matrix.loc[similar_users.index]\n",
        "\n",
        "    # Weighted rating calculation\n",
        "    weighted_scores = similar_ratings.T.dot(similar_users)\n",
        "    normalization = similar_users.sum()\n",
        "    scores = weighted_scores / normalization\n",
        "\n",
        "    # Remove movies the target user has already rated\n",
        "    # Changed 'user_movie_matrix' to 'user_item_matrix'\n",
        "    watched = user_item_matrix.loc[target_user_id]\n",
        "    scores = scores.drop(watched[watched > 0].index, errors='ignore')\n",
        "\n",
        "    # Get top recommended movie IDs\n",
        "    top_movies = scores.sort_values(ascending=False).head(num_recommendations)\n",
        "    return top_movies\n",
        "\n",
        "top_movies = recommend_movies_for_user(target_user_id=1, num_recommendations=5)\n",
        "\n",
        "print(\"Top 5 recommended movie IDs:\", top_movies.index.tolist())\n",
        "print(\"Recommendation scores:\", top_movies.values)"
      ],
      "cell_type": "code",
      "metadata": {
        "colab": {
          "base_uri": "https://localhost:8080/"
        },
        "id": "k8mEIXvR96I_",
        "outputId": "45efe9f4-31c8-48d5-f3d3-62a16743117e"
      },
      "execution_count": 25,
      "outputs": [
        {
          "output_type": "stream",
          "name": "stdout",
          "text": [
            "Top 5 recommended movie IDs: [260, 296, 1196, 318, 1198]\n",
            "Recommendation scores: [2.44739659 2.3691164  2.30466924 2.25938908 2.1557039 ]\n"
          ]
        }
      ]
    },
    {
      "source": [
        "# Merge with movies.csv to get titles\n",
        "# Assuming the movie ID column in movies.csv is 'Index'\n",
        "recommended_titles = movies[movies['index'].isin(top_movies.index)]\n",
        "recommended_titles = recommended_titles.set_index('index').loc[top_movies.index]\n",
        "recommended_titles['score'] = top_movies.values\n",
        "\n",
        "print(recommended_titles[['title', 'score']])"
      ],
      "cell_type": "code",
      "metadata": {
        "colab": {
          "base_uri": "https://localhost:8080/"
        },
        "id": "DA5IceL8_Fnk",
        "outputId": "69fcd50b-f8ca-4a32-ea30-2d9bc7aae521"
      },
      "execution_count": 32,
      "outputs": [
        {
          "output_type": "stream",
          "name": "stdout",
          "text": [
            "                            title     score\n",
            "movieId                                    \n",
            "260                  Ender's Game  2.447397\n",
            "296                   End of Days  2.369116\n",
            "1196                 The Prestige  2.304669\n",
            "318                     Surf's Up  2.259389\n",
            "1198     Escape from Planet Earth  2.155704\n"
          ]
        }
      ]
    },
    {
      "cell_type": "code",
      "source": [
        "# Transpose for item-item similarity\n",
        "item_item_matrix = user_item_matrix.T\n",
        "item_similarity = cosine_similarity(item_item_matrix.fillna(0))\n",
        "\n",
        "# Example: get top 5 similar movies to movie ID 1\n",
        "movie_id = 1\n",
        "movie_idx = list(item_item_matrix.index).index(movie_id)\n",
        "similar_movies = np.argsort(-item_similarity[movie_idx])[1:6]\n",
        "similar_movie_ids = item_item_matrix.index[similar_movies]\n",
        "print(f\"Top 5 similar movies to Movie {movie_id}:\", similar_movie_ids.tolist())\n"
      ],
      "metadata": {
        "colab": {
          "base_uri": "https://localhost:8080/"
        },
        "id": "yAQcpTem_86E",
        "outputId": "e94f81d7-c90a-4c52-f167-50897a4499d0"
      },
      "execution_count": 33,
      "outputs": [
        {
          "output_type": "stream",
          "name": "stdout",
          "text": [
            "Top 5 similar movies to Movie 1: [3114, 260, 356, 780, 1265]\n"
          ]
        }
      ]
    },
    {
      "cell_type": "markdown",
      "source": [
        "Evaluation Metrics"
      ],
      "metadata": {
        "id": "sJ6kBod-IDcD"
      }
    },
    {
      "cell_type": "code",
      "source": [
        "def precision_at_k(recommended, relevant, k):\n",
        "    recommended_at_k = recommended[:k]\n",
        "    return len(set(recommended_at_k) & set(relevant)) / k\n"
      ],
      "metadata": {
        "id": "x2_xhkoHEHGL"
      },
      "execution_count": 49,
      "outputs": []
    },
    {
      "cell_type": "code",
      "source": [
        "def recall_at_k(recommended, relevant, k):\n",
        "    recommended_at_k = recommended[:k]\n",
        "    return len(set(recommended_at_k) & set(relevant)) / len(relevant)\n"
      ],
      "metadata": {
        "id": "TwxLmSauEQBT"
      },
      "execution_count": 50,
      "outputs": []
    },
    {
      "cell_type": "code",
      "source": [
        "# Assume for a test user:\n",
        "relevant_movies = [296, 318, 1198]  # Actual relevant movies (e.g., rated > 4)\n",
        "recommended_movies = [260, 296, 1196, 318, 1198]  # Model's top 5 recommendations\n",
        "\n",
        "k = 5\n",
        "print(\"Precision@5:\", precision_at_k(recommended_movies, relevant_movies, k))\n",
        "print(\"Recall@5:\", recall_at_k(recommended_movies, relevant_movies, k))\n"
      ],
      "metadata": {
        "colab": {
          "base_uri": "https://localhost:8080/"
        },
        "id": "zmAE2QhjEVWf",
        "outputId": "227b0c6b-0f40-4e40-96d0-8f07b1fa1d1d"
      },
      "execution_count": 52,
      "outputs": [
        {
          "output_type": "stream",
          "name": "stdout",
          "text": [
            "Precision@5: 0.6\n",
            "Recall@5: 1.0\n"
          ]
        }
      ]
    },
    {
      "cell_type": "code",
      "source": [
        "# Actual and predicted ratings for testing\n",
        "actual_ratings = [4.0, 3.5, 5.0, 2.0, 4.5]    # y_true\n",
        "predicted_ratings = [3.8, 3.0, 4.7, 2.5, 4.6] # y_pred\n"
      ],
      "metadata": {
        "id": "BKZZTAhOEzVE"
      },
      "execution_count": 53,
      "outputs": []
    },
    {
      "cell_type": "code",
      "source": [
        "from sklearn.metrics import mean_absolute_error, mean_squared_error\n",
        "import numpy as np\n",
        "\n",
        "# MAE\n",
        "mae = mean_absolute_error(actual_ratings, predicted_ratings)\n",
        "\n",
        "# RMSE\n",
        "rmse = np.sqrt(mean_squared_error(actual_ratings, predicted_ratings))\n",
        "\n",
        "print(\" MAE:\", round(mae, 3))\n",
        "print(\" RMSE:\", round(rmse, 3))\n"
      ],
      "metadata": {
        "colab": {
          "base_uri": "https://localhost:8080/"
        },
        "id": "0LfOPl6-FXZ9",
        "outputId": "40bdc781-42c3-4870-8c3e-bed7622ecf93"
      },
      "execution_count": 54,
      "outputs": [
        {
          "output_type": "stream",
          "name": "stdout",
          "text": [
            " MAE: 0.32\n",
            " RMSE: 0.358\n"
          ]
        }
      ]
    },
    {
      "cell_type": "markdown",
      "source": [
        "Summary\n",
        "\n",
        "| **Metric**       | **Type**   | **Best For**                        | **Ideal Value** |\n",
        "| ---------------- | ---------- | ----------------------------------- | --------------- |\n",
        "| **MAE**          | Prediction | Accuracy of predicted rating values | Close to 0      |\n",
        "| **RMSE**         | Prediction | Penalizing large prediction errors  | Close to 0      |\n",
        "| **Precision\\@k** | Top-N      | Relevance of top-K recommendations  | Close to 1      |\n",
        "| **Recall\\@k**    | Top-N      | Capturing all relevant items        | Close to 1      |\n"
      ],
      "metadata": {
        "id": "36_k-2wwI8eC"
      }
    }
  ]
}